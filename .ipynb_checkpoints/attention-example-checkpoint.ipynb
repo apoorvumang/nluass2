{
 "cells": [
  {
   "cell_type": "code",
   "execution_count": 78,
   "metadata": {},
   "outputs": [],
   "source": [
    "from random import randint\n",
    "from numpy import array\n",
    "from numpy import argmax\n",
    "from numpy import array_equal\n",
    "from keras.models import Sequential\n",
    "from keras.layers import LSTM\n",
    "from keras.layers import Dense\n",
    "from keras.layers import TimeDistributed\n",
    "from keras.layers import RepeatVector\n",
    "import numpy as np\n",
    "import os\n",
    "os.environ[\"CUDA_VISIBLE_DEVICES\"]=\"7\"\n",
    "\n",
    "# generate a sequence of random integers\n",
    "def generate_sequence(length, n_unique):\n",
    "    return [randint(0, n_unique-1) for _ in range(length)]\n",
    "\n",
    "# one hot encode sequence\n",
    "def one_hot_encode(sequence, n_unique):\n",
    "    encoding = list()\n",
    "    for value in sequence:\n",
    "        vector = [0 for _ in range(n_unique)]\n",
    "        vector[value] = 1\n",
    "        encoding.append(vector)\n",
    "    return array(encoding)\n",
    "\n",
    "# decode a one hot encoded string\n",
    "def one_hot_decode(encoded_seq):\n",
    "    return [argmax(vector) for vector in encoded_seq]\n",
    "\n",
    "def get_one(n_in, n_out, cardinality):\n",
    "    sequence_in = generate_sequence(n_in, cardinality)\n",
    "    sequence_out = [0 for _ in range(n_in-n_out)] + sequence_in[:n_out]\n",
    "    # one hot encode\n",
    "    X = one_hot_encode(sequence_in, cardinality)\n",
    "    y = one_hot_encode(sequence_out, cardinality)\n",
    "    return X,y\n",
    "\n",
    "# prepare data for the LSTM\n",
    "def get_pair(n_in, n_out, cardinality):\n",
    "    # generate random sequence\n",
    "    X, y = get_one(n_in, n_out, cardinality)\n",
    "    # reshape as 3D\n",
    "    X = X.reshape((1, X.shape[0], X.shape[1]))\n",
    "    y = y.reshape((1, y.shape[0], y.shape[1]))\n",
    "    return X,y\n",
    "\n",
    "def get_pairs(n_in, n_out, cardinality):\n",
    "    X_arr = list()\n",
    "    y_arr = list()\n",
    "    for epoch in range(5000):\n",
    "        X,y = get_one(n_in, n_out, cardinality)\n",
    "        X_arr.append(X)\n",
    "        y_arr.append(y)\n",
    "    X_arr2 = np.array(X_arr)\n",
    "    y_arr2 = np.array(y_arr)\n",
    "    return X_arr2, y_arr2\n",
    "\n",
    "# configure problem\n",
    "n_features = 50\n",
    "n_timesteps_in = 5\n",
    "n_timesteps_out = 2\n",
    "# define model\n",
    "\n",
    "def run_test(model): \n",
    "    total, correct = 100, 0\n",
    "    for _ in range(total):\n",
    "        X,y = get_pair(n_timesteps_in, n_timesteps_out, n_features)\n",
    "        yhat = model.predict(X, verbose=0)\n",
    "        if array_equal(one_hot_decode(y[0]), one_hot_decode(yhat[0])):\n",
    "            correct += 1\n",
    "    print('Accuracy: %.2f%%' % (float(correct)/float(total)*100.0))\n",
    "    # spot check some examples\n",
    "    for _ in range(10):\n",
    "        X,y = get_pair(n_timesteps_in, n_timesteps_out, n_features)\n",
    "        yhat = model.predict(X, verbose=0)\n",
    "        print('Expected:', one_hot_decode(y[0]), 'Predicted', one_hot_decode(yhat[0]))\n"
   ]
  },
  {
   "cell_type": "code",
   "execution_count": 79,
   "metadata": {},
   "outputs": [
    {
     "name": "stdout",
     "output_type": "stream",
     "text": [
      "_________________________________________________________________\n",
      "Layer (type)                 Output Shape              Param #   \n",
      "=================================================================\n",
      "lstm_32 (LSTM)               (None, 150)               120600    \n",
      "_________________________________________________________________\n",
      "repeat_vector_16 (RepeatVect (None, 5, 150)            0         \n",
      "_________________________________________________________________\n",
      "lstm_33 (LSTM)               (None, 5, 150)            180600    \n",
      "_________________________________________________________________\n",
      "time_distributed_16 (TimeDis (None, 5, 50)             7550      \n",
      "=================================================================\n",
      "Total params: 308,750\n",
      "Trainable params: 308,750\n",
      "Non-trainable params: 0\n",
      "_________________________________________________________________\n",
      "None\n"
     ]
    }
   ],
   "source": [
    "\n",
    "model = Sequential()\n",
    "model.add(LSTM(150, input_shape=(n_timesteps_in, n_features)))\n",
    "model.add(RepeatVector(n_timesteps_in))\n",
    "model.add(LSTM(150, return_sequences=True))\n",
    "model.add(TimeDistributed(Dense(n_features, activation='softmax')))\n",
    "model.compile(loss='categorical_crossentropy', optimizer='adam', metrics=['acc'])\n",
    "\n",
    "print(model.summary())\n"
   ]
  },
  {
   "cell_type": "code",
   "execution_count": 80,
   "metadata": {},
   "outputs": [
    {
     "name": "stdout",
     "output_type": "stream",
     "text": [
      "Epoch 1/1\n",
      "5000/5000 [==============================] - 101s 20ms/step - loss: 1.2904 - acc: 0.6699\n"
     ]
    },
    {
     "data": {
      "text/plain": [
       "<keras.callbacks.History at 0x7f5d9a6411d0>"
      ]
     },
     "execution_count": 80,
     "metadata": {},
     "output_type": "execute_result"
    }
   ],
   "source": [
    "# train LSTM\n",
    "\n",
    "X_arr, y_arr = get_pairs(n_timesteps_in, n_timesteps_out, n_features)\n",
    "model.fit(X_arr, y_arr, epochs=1, verbose=1, batch_size=1)\n",
    "    \n",
    "# evaluate LSTM\n"
   ]
  },
  {
   "cell_type": "code",
   "execution_count": 86,
   "metadata": {},
   "outputs": [
    {
     "name": "stdout",
     "output_type": "stream",
     "text": [
      "Accuracy: 7.00%\n",
      "Expected: [0, 0, 0, 9, 21] Predicted [0, 0, 0, 9, 33]\n",
      "Expected: [0, 0, 0, 16, 24] Predicted [0, 0, 0, 16, 2]\n",
      "Expected: [0, 0, 0, 37, 4] Predicted [0, 0, 0, 37, 49]\n",
      "Expected: [0, 0, 0, 48, 24] Predicted [0, 0, 0, 48, 18]\n",
      "Expected: [0, 0, 0, 25, 13] Predicted [0, 0, 0, 25, 13]\n",
      "Expected: [0, 0, 0, 15, 42] Predicted [0, 0, 0, 15, 15]\n",
      "Expected: [0, 0, 0, 24, 5] Predicted [0, 0, 0, 16, 2]\n",
      "Expected: [0, 0, 0, 47, 3] Predicted [0, 0, 0, 47, 47]\n",
      "Expected: [0, 0, 0, 34, 49] Predicted [0, 0, 0, 34, 0]\n",
      "Expected: [0, 0, 0, 34, 21] Predicted [0, 0, 0, 34, 0]\n"
     ]
    }
   ],
   "source": [
    "run_test(model)"
   ]
  },
  {
   "cell_type": "code",
   "execution_count": 44,
   "metadata": {},
   "outputs": [],
   "source": [
    "X_arr = np.array(X_arr)\n",
    "y_arr = np.array(y_arr)"
   ]
  },
  {
   "cell_type": "code",
   "execution_count": 34,
   "metadata": {},
   "outputs": [],
   "source": [
    "X = X.reshape((1, X.shape[0], X.shape[1]))"
   ]
  },
  {
   "cell_type": "code",
   "execution_count": 50,
   "metadata": {},
   "outputs": [
    {
     "data": {
      "text/plain": [
       "1"
      ]
     },
     "execution_count": 50,
     "metadata": {},
     "output_type": "execute_result"
    }
   ],
   "source": [
    "len(a)"
   ]
  },
  {
   "cell_type": "code",
   "execution_count": 87,
   "metadata": {},
   "outputs": [
    {
     "name": "stdout",
     "output_type": "stream",
     "text": [
      "inputs shape: (?, ?, 150)\n",
      "_________________________________________________________________\n",
      "Layer (type)                 Output Shape              Param #   \n",
      "=================================================================\n",
      "lstm_34 (LSTM)               (None, 5, 150)            120600    \n",
      "_________________________________________________________________\n",
      "AttentionDecoder (AttentionD (None, 5, 50)             243300    \n",
      "=================================================================\n",
      "Total params: 363,900\n",
      "Trainable params: 363,900\n",
      "Non-trainable params: 0\n",
      "_________________________________________________________________\n",
      "None\n"
     ]
    }
   ],
   "source": [
    "from keras.layers import RNN\n",
    "from keras.layers import Bidirectional\n",
    "from custom_recurrents import AttentionDecoder\n",
    "\n",
    "\n",
    "# define model\n",
    "model2 = Sequential()\n",
    "model2.add(LSTM(150, input_shape=(n_timesteps_in, n_features), return_sequences=True))\n",
    "model2.add(AttentionDecoder(150, n_features))\n",
    "model2.compile(loss='categorical_crossentropy', optimizer='adam', metrics=['acc'])\n",
    "\n",
    "print(model2.summary())"
   ]
  },
  {
   "cell_type": "code",
   "execution_count": null,
   "metadata": {},
   "outputs": [
    {
     "name": "stdout",
     "output_type": "stream",
     "text": [
      "Epoch 1/1\n"
     ]
    }
   ],
   "source": [
    "model2.fit(X_arr, y_arr, epochs=1, verbose=1, batch_size=1)"
   ]
  },
  {
   "cell_type": "code",
   "execution_count": 75,
   "metadata": {},
   "outputs": [
    {
     "name": "stdout",
     "output_type": "stream",
     "text": [
      "Accuracy: 93.00%\n",
      "Expected: [20, 8, 0, 0, 0] Predicted [20, 8, 0, 0, 0]\n",
      "Expected: [48, 14, 0, 0, 0] Predicted [48, 14, 0, 0, 0]\n",
      "Expected: [7, 32, 0, 0, 0] Predicted [7, 32, 0, 0, 0]\n",
      "Expected: [44, 10, 0, 0, 0] Predicted [44, 10, 0, 0, 0]\n",
      "Expected: [27, 4, 0, 0, 0] Predicted [27, 4, 0, 0, 0]\n",
      "Expected: [21, 31, 0, 0, 0] Predicted [21, 31, 0, 0, 0]\n",
      "Expected: [16, 19, 0, 0, 0] Predicted [16, 19, 0, 0, 0]\n",
      "Expected: [37, 39, 0, 0, 0] Predicted [37, 39, 0, 0, 0]\n",
      "Expected: [6, 1, 0, 0, 0] Predicted [6, 1, 0, 0, 0]\n",
      "Expected: [11, 22, 0, 0, 0] Predicted [11, 22, 0, 0, 0]\n"
     ]
    }
   ],
   "source": [
    "run_test(model2)"
   ]
  },
  {
   "cell_type": "code",
   "execution_count": null,
   "metadata": {},
   "outputs": [],
   "source": []
  }
 ],
 "metadata": {
  "kernelspec": {
   "display_name": "Python 3",
   "language": "python",
   "name": "python3"
  },
  "language_info": {
   "codemirror_mode": {
    "name": "ipython",
    "version": 3
   },
   "file_extension": ".py",
   "mimetype": "text/x-python",
   "name": "python",
   "nbconvert_exporter": "python",
   "pygments_lexer": "ipython3",
   "version": "3.5.2"
  }
 },
 "nbformat": 4,
 "nbformat_minor": 2
}
