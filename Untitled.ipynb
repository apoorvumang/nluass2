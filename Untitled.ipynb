{
 "cells": [
  {
   "cell_type": "code",
   "execution_count": 61,
   "metadata": {},
   "outputs": [],
   "source": [
    "a = [[0.9997946, 6.4522639e-05, 6.3779094e-05, 5.1296873e-05, 2.5492376e-05, 4.9801141e-08, 4.9801141e-08, 4.9801141e-08, 4.9801141e-08, 4.9801141e-08], [1.1844723e-05, 0.97122145, 0.0010132517, 0.027334655, 0.00040132136, 3.4785921e-06, 3.4785921e-06, 3.4785921e-06, 3.4785921e-06, 3.4785921e-06], [3.3762777e-07, 0.00010109275, 0.00021720043, 0.00064923632, 0.94975221, 0.0098559838, 0.0098559838, 0.0098559838, 0.0098559838, 0.0098559838], [1.44563201e-05, 0.000119851466, 0.885932863, 0.00904139038, 0.100202702, 0.000937744859, 0.000937744859, 0.000937744859, 0.000937744859, 0.000937744859], [1.122032e-05, 5.5976197e-05, 0.41340524, 0.012891221, 0.54836392, 0.0050544888, 0.0050544888, 0.0050544888, 0.0050544888, 0.0050544888], [0.00016888494, 0.00030341613, 0.51921648, 0.022961104, 0.32954523, 0.025560979, 0.025560979, 0.025560979, 0.025560979, 0.025560979], [0.00020048111, 0.00031307078, 0.3629818, 0.020095948, 0.433245, 0.036632746, 0.036632746, 0.036632746, 0.036632746, 0.036632746], [0.00022211482, 0.00039426517, 0.32574242, 0.020266261, 0.44007683, 0.042659625, 0.042659625, 0.042659625, 0.042659625, 0.042659625], [0.00023811383, 0.00046326136, 0.30145362, 0.020093251, 0.45113024, 0.045324307, 0.045324307, 0.045324307, 0.045324307, 0.045324307], [0.00025005339, 0.00051901344, 0.28495103, 0.019784147, 0.45798236, 0.047302675, 0.047302675, 0.047302675, 0.047302675, 0.047302675]]\n",
    "a = np.array(a)\n",
    "a = a.T"
   ]
  },
  {
   "cell_type": "code",
   "execution_count": 62,
   "metadata": {},
   "outputs": [],
   "source": [
    "till = 5\n",
    "x = a[:till]\n",
    "x_new = []\n",
    "for arr in x:\n",
    "    x_new.append(arr[:till])"
   ]
  },
  {
   "cell_type": "code",
   "execution_count": 37,
   "metadata": {},
   "outputs": [],
   "source": []
  },
  {
   "cell_type": "code",
   "execution_count": 66,
   "metadata": {},
   "outputs": [
    {
     "data": {
      "image/png": "[encoded data removed]",
      "text/plain": [
       "<Figure size 432x230.4 with 2 Axes>"
      ]
     },
     "metadata": {
      "needs_background": "light"
     },
     "output_type": "display_data"
    }
   ],
   "source": [
    "import numpy as np\n",
    "import matplotlib.pyplot as plt\n",
    "H = np.array([[1, 2, 3, 4],\n",
    "              [5, 6, 7, 8],\n",
    "              [9, 10, 11, 12],\n",
    "              [13, 14, 15, 16]])  # added some commas and array creation code\n",
    "# H = a\n",
    "\n",
    "fig = plt.figure(figsize=(6, 3.2))\n",
    "\n",
    "ax = fig.add_subplot(111)\n",
    "ax.set_xticklabels(['', 'i', 'cant', 'leave', 'now'])\n",
    "ax.set_yticklabels(['', 'ich', 'kann', 'jetzt', 'nicht', 'gehen'])\n",
    "ax.set_title('Attention map')\n",
    "plt.imshow(x_new)\n",
    "ax.set_aspect('equal')\n",
    "# cax = fig.add_axes()\n",
    "# cax.get_xaxis().set_visible(False)\n",
    "# cax.get_yaxis().set_visible(False)\n",
    "# cax.patch.set_alpha(0)\n",
    "# cax.set_frame_on(False)\n",
    "plt.colorbar(orientation='vertical')\n",
    "plt.show()\n"
   ]
  },
  {
   "cell_type": "code",
   "execution_count": 58,
   "metadata": {},
   "outputs": [
    {
     "data": {
      "image/png": "[encoded data removed]",
      "text/plain": [
       "<Figure size 432x230.4 with 3 Axes>"
      ]
     },
     "metadata": {
      "needs_background": "light"
     },
     "output_type": "display_data"
    }
   ],
   "source": [
    "import numpy as np\n",
    "import matplotlib.pyplot as plt\n",
    "\n",
    "H = np.array([[1, 2, 3, 4],\n",
    "              [5, 6, 7, 8],\n",
    "              [9, 10, 11, 12],\n",
    "              [13, 14, 15, 16]])  # added some commas and array creation code\n",
    "\n",
    "fig = plt.figure(figsize=(6, 3.2))\n",
    "\n",
    "ax = fig.add_subplot(111)\n",
    "ax.set_title('colorMap')\n",
    "ax.set_xticklabels(['', 0,'sdf',20,30,40])\n",
    "\n",
    "plt.imshow(x_new)\n",
    "ax.set_aspect('equal')\n",
    "\n",
    "cax = fig.add_axes([0.12, 0.1, 0.78, 0.8])\n",
    "cax.get_xaxis().set_visible(False)\n",
    "cax.get_yaxis().set_visible(False)\n",
    "cax.patch.set_alpha(0)\n",
    "cax.set_frame_on(False)\n",
    "plt.colorbar(orientation='vertical')\n",
    "plt.show()\n"
   ]
  },
  {
   "cell_type": "code",
   "execution_count": 45,
   "metadata": {},
   "outputs": [
    {
     "data": {
      "text/plain": [
       "array([[1.55318884e-02, 4.73212937e-02, 4.21155288e-02, ...,\n",
       "        2.33595211e-02, 4.49023949e-03, 1.15367513e-01],\n",
       "       [4.54032363e-02, 1.54481146e-01, 4.83781613e-01, ...,\n",
       "        8.43055706e-02, 9.93151046e-02, 6.09816864e-02],\n",
       "       [1.49342882e-01, 6.21238762e-03, 5.62475636e-02, ...,\n",
       "        1.74839649e-01, 3.24733379e-02, 5.16946723e-03],\n",
       "       ...,\n",
       "       [4.09152355e-03, 1.26706449e-01, 1.46980668e-01, ...,\n",
       "        1.04447257e-01, 1.89484362e-02, 2.15748815e-03],\n",
       "       [6.81849281e-02, 5.89081086e-02, 3.40125851e-08, ...,\n",
       "        7.43221482e-04, 4.16780657e-02, 1.76937210e-02],\n",
       "       [4.86842908e-01, 1.11232882e-05, 1.59622633e-01, ...,\n",
       "        4.19637575e-02, 2.06736238e-02, 3.18022125e-02]])"
      ]
     },
     "execution_count": 45,
     "metadata": {},
     "output_type": "execute_result"
    }
   ],
   "source": [
    "a"
   ]
  },
  {
   "cell_type": "code",
   "execution_count": 8,
   "metadata": {},
   "outputs": [],
   "source": []
  },
  {
   "cell_type": "code",
   "execution_count": 103,
   "metadata": {},
   "outputs": [
    {
     "data": {
      "text/plain": [
       "[4.9891503e-05,\n",
       " 0.0014528197,\n",
       " 0.11457664,\n",
       " 0.88378251,\n",
       " 3.9900526e-05,\n",
       " 1.9639756e-05,\n",
       " 1.9639756e-05,\n",
       " 1.9639756e-05,\n",
       " 1.9639756e-05,\n",
       " 1.9639756e-05]"
      ]
     },
     "execution_count": 103,
     "metadata": {},
     "output_type": "execute_result"
    }
   ],
   "source": [
    "a[3]"
   ]
  },
  {
   "cell_type": "code",
   "execution_count": null,
   "metadata": {},
   "outputs": [],
   "source": []
  }
 ],
 "metadata": {
  "kernelspec": {
   "display_name": "Python 3",
   "language": "python",
   "name": "python3"
  },
  "language_info": {
   "codemirror_mode": {
    "name": "ipython",
    "version": 3
   },
   "file_extension": ".py",
   "mimetype": "text/x-python",
   "name": "python",
   "nbconvert_exporter": "python",
   "pygments_lexer": "ipython3",
   "version": "3.5.2"
  }
 },
 "nbformat": 4,
 "nbformat_minor": 2
}
