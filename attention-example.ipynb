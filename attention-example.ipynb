{
 "cells": [
  {
   "cell_type": "code",
   "execution_count": 1,
   "metadata": {},
   "outputs": [
    {
     "name": "stderr",
     "output_type": "stream",
     "text": [
      "Using TensorFlow backend.\n"
     ]
    }
   ],
   "source": [
    "from random import randint\n",
    "from numpy import array\n",
    "from numpy import argmax\n",
    "from numpy import array_equal\n",
    "from keras.models import Sequential\n",
    "from keras.layers import LSTM\n",
    "from keras.layers import Embedding\n",
    "from keras.layers import Dense\n",
    "from keras.layers import TimeDistributed\n",
    "from keras.layers import RepeatVector\n",
    "import numpy as np\n",
    "import os\n",
    "os.environ[\"CUDA_VISIBLE_DEVICES\"]=\"6\"\n",
    "from keras.backend.tensorflow_backend import set_session\n",
    "import tensorflow as tf\n",
    "config = tf.ConfigProto()\n",
    "config.gpu_options.allow_growth = True  # dynamically grow the memory used on the GPU\n",
    "config.log_device_placement = True  # to log device placement (on which device the operation ran)\n",
    "sess = tf.Session(config=config)\n",
    "set_session(sess)\n",
    "\n",
    "# generate a sequence of random integers\n",
    "def generate_sequence(length, n_unique):\n",
    "    return [randint(0, n_unique-1) for _ in range(length)]\n",
    "\n",
    "# one hot encode sequence\n",
    "def one_hot_encode(sequence, n_unique):\n",
    "    encoding = list()\n",
    "    for value in sequence:\n",
    "        vector = [0 for _ in range(n_unique)]\n",
    "        vector[value] = 1\n",
    "        encoding.append(vector)\n",
    "    return array(encoding)\n",
    "\n",
    "# decode a one hot encoded string\n",
    "def one_hot_decode(encoded_seq):\n",
    "    return [argmax(vector) for vector in encoded_seq]\n",
    "\n",
    "def get_one(n_in, n_out, cardinality):\n",
    "    sequence_in = generate_sequence(n_in, cardinality)\n",
    "    sequence_out =  sequence_in[:n_out] + [0 for _ in range(n_in-n_out)]\n",
    "    # one hot encode\n",
    "#     X = one_hot_encode(sequence_in, cardinality)\n",
    "    X = sequence_in\n",
    "    y = one_hot_encode(sequence_out, cardinality)\n",
    "    return X,y\n",
    "\n",
    "# prepare data for the LSTM\n",
    "def get_pair(n_in, n_out, cardinality):\n",
    "    # generate random sequence\n",
    "    X, y = get_one(n_in, n_out, cardinality)\n",
    "    # reshape as 3D\n",
    "#     X = X.reshape((1, X.shape[0], X.shape[1]))\n",
    "    X = np.array([X])\n",
    "    y = y.reshape((1, y.shape[0], y.shape[1]))\n",
    "    return X,y\n",
    "\n",
    "def get_pairs(n_in, n_out, cardinality):\n",
    "    X_arr = list()\n",
    "    y_arr = list()\n",
    "    for epoch in range(5000):\n",
    "        X,y = get_one(n_in, n_out, cardinality)\n",
    "        X_arr.append(X)\n",
    "        y_arr.append(y)\n",
    "    X_arr2 = np.array(X_arr)\n",
    "    y_arr2 = np.array(y_arr)\n",
    "    return X_arr2, y_arr2\n",
    "\n",
    "# configure problem\n",
    "n_features = 100\n",
    "n_timesteps_in = 10\n",
    "n_timesteps_out = 2\n",
    "# define model\n",
    "\n",
    "def run_test(model): \n",
    "    total, correct = 100, 0\n",
    "    for _ in range(total):\n",
    "        X,y = get_pair(n_timesteps_in, n_timesteps_out, n_features)\n",
    "        yhat = model.predict(X, verbose=0)\n",
    "        if array_equal(one_hot_decode(y[0]), one_hot_decode(yhat[0])):\n",
    "            correct += 1\n",
    "    print('Accuracy: %.2f%%' % (float(correct)/float(total)*100.0))\n",
    "    # spot check some examples\n",
    "    for _ in range(10):\n",
    "        X,y = get_pair(n_timesteps_in, n_timesteps_out, n_features)\n",
    "        yhat = model.predict(X, verbose=0)\n",
    "        print('Expected:', one_hot_decode(y[0]), 'Predicted', one_hot_decode(yhat[0]))\n"
   ]
  },
  {
   "cell_type": "code",
   "execution_count": 2,
   "metadata": {},
   "outputs": [],
   "source": [
    "X_arr, y_arr = get_pairs(n_timesteps_in, n_timesteps_out, n_features)\n"
   ]
  },
  {
   "cell_type": "code",
   "execution_count": 3,
   "metadata": {},
   "outputs": [
    {
     "name": "stdout",
     "output_type": "stream",
     "text": [
      "_________________________________________________________________\n",
      "Layer (type)                 Output Shape              Param #   \n",
      "=================================================================\n",
      "embedding_1 (Embedding)      (None, 10, 150)           15000     \n",
      "_________________________________________________________________\n",
      "lstm_1 (LSTM)                (None, 150)               180600    \n",
      "_________________________________________________________________\n",
      "repeat_vector_1 (RepeatVecto (None, 10, 150)           0         \n",
      "_________________________________________________________________\n",
      "lstm_2 (LSTM)                (None, 10, 150)           180600    \n",
      "_________________________________________________________________\n",
      "time_distributed_1 (TimeDist (None, 10, 100)           15100     \n",
      "=================================================================\n",
      "Total params: 391,300\n",
      "Trainable params: 391,300\n",
      "Non-trainable params: 0\n",
      "_________________________________________________________________\n",
      "None\n"
     ]
    }
   ],
   "source": [
    "\n",
    "model = Sequential()\n",
    "# model.add(TimeDistributed(Dense(n_features, activation='softmax'), input_shape=(n_timesteps_in, n_features)))\n",
    "model.add(Embedding(n_features, 150, input_length=n_timesteps_in, mask_zero=True))\n",
    "model.add(LSTM(150))\n",
    "model.add(RepeatVector(n_timesteps_in))\n",
    "model.add(LSTM(150, return_sequences=True))\n",
    "model.add(TimeDistributed(Dense(n_features, activation='softmax')))\n",
    "model.compile(loss='categorical_crossentropy', optimizer='adam', metrics=['acc'])\n",
    "\n",
    "print(model.summary())\n"
   ]
  },
  {
   "cell_type": "code",
   "execution_count": 8,
   "metadata": {},
   "outputs": [
    {
     "name": "stdout",
     "output_type": "stream",
     "text": [
      "Epoch 1/10\n",
      "5000/5000 [==============================] - 12s 2ms/step - loss: 1.8395 - acc: 0.8000\n",
      "Epoch 2/10\n",
      "5000/5000 [==============================] - 12s 2ms/step - loss: 1.8018 - acc: 0.8000\n",
      "Epoch 3/10\n",
      "5000/5000 [==============================] - 12s 2ms/step - loss: 1.7842 - acc: 0.7997\n",
      "Epoch 4/10\n",
      "5000/5000 [==============================] - 12s 2ms/step - loss: 1.7658 - acc: 0.7999\n",
      "Epoch 5/10\n",
      "5000/5000 [==============================] - 12s 2ms/step - loss: 1.7531 - acc: 0.8000\n",
      "Epoch 6/10\n",
      "5000/5000 [==============================] - 12s 2ms/step - loss: 1.7440 - acc: 0.8000\n",
      "Epoch 7/10\n",
      "5000/5000 [==============================] - 12s 2ms/step - loss: 1.7383 - acc: 0.8000\n",
      "Epoch 8/10\n",
      "5000/5000 [==============================] - 12s 2ms/step - loss: 1.7334 - acc: 0.8000\n",
      "Epoch 9/10\n",
      "5000/5000 [==============================] - 11s 2ms/step - loss: 1.7302 - acc: 0.7998\n",
      "Epoch 10/10\n",
      "5000/5000 [==============================] - 12s 2ms/step - loss: 1.7251 - acc: 0.7999\n"
     ]
    },
    {
     "data": {
      "text/plain": [
       "<keras.callbacks.History at 0x7fd9107217b8>"
      ]
     },
     "execution_count": 8,
     "metadata": {},
     "output_type": "execute_result"
    }
   ],
   "source": [
    "# train LSTM\n",
    "\n",
    "model.fit(X_arr, y_arr, epochs=10, verbose=1, batch_size=32)\n",
    "# X_arr[1]\n",
    "# evaluate LSTM\n"
   ]
  },
  {
   "cell_type": "code",
   "execution_count": 9,
   "metadata": {},
   "outputs": [
    {
     "name": "stdout",
     "output_type": "stream",
     "text": [
      "Accuracy: 0.00%\n",
      "Expected: [2452, 4916, 0, 0, 0, 0, 0, 0, 0, 0] Predicted [4826, 0, 0, 0, 0, 0, 0, 0, 0, 0]\n",
      "Expected: [3174, 7660, 0, 0, 0, 0, 0, 0, 0, 0] Predicted [4826, 0, 0, 0, 0, 0, 0, 0, 0, 0]\n",
      "Expected: [7204, 8758, 0, 0, 0, 0, 0, 0, 0, 0] Predicted [4826, 0, 0, 0, 0, 0, 0, 0, 0, 0]\n",
      "Expected: [8716, 2547, 0, 0, 0, 0, 0, 0, 0, 0] Predicted [4826, 0, 0, 0, 0, 0, 0, 0, 0, 0]\n",
      "Expected: [2245, 519, 0, 0, 0, 0, 0, 0, 0, 0] Predicted [4826, 0, 0, 0, 0, 0, 0, 0, 0, 0]\n",
      "Expected: [6096, 2405, 0, 0, 0, 0, 0, 0, 0, 0] Predicted [4826, 0, 0, 0, 0, 0, 0, 0, 0, 0]\n",
      "Expected: [3850, 5781, 0, 0, 0, 0, 0, 0, 0, 0] Predicted [4826, 0, 0, 0, 0, 0, 0, 0, 0, 0]\n",
      "Expected: [4309, 287, 0, 0, 0, 0, 0, 0, 0, 0] Predicted [4826, 0, 0, 0, 0, 0, 0, 0, 0, 0]\n",
      "Expected: [4400, 6067, 0, 0, 0, 0, 0, 0, 0, 0] Predicted [4826, 0, 0, 0, 0, 0, 0, 0, 0, 0]\n",
      "Expected: [2269, 2879, 0, 0, 0, 0, 0, 0, 0, 0] Predicted [4826, 0, 0, 0, 0, 0, 0, 0, 0, 0]\n"
     ]
    }
   ],
   "source": [
    "run_test(model)"
   ]
  },
  {
   "cell_type": "code",
   "execution_count": 10,
   "metadata": {},
   "outputs": [
    {
     "name": "stdout",
     "output_type": "stream",
     "text": [
      "inputs shape: (?, ?, 128)\n",
      "_________________________________________________________________\n",
      "Layer (type)                 Output Shape              Param #   \n",
      "=================================================================\n",
      "embedding_2 (Embedding)      (None, 10, 128)           1280000   \n",
      "_________________________________________________________________\n",
      "lstm_3 (LSTM)                (None, 10, 128)           131584    \n",
      "_________________________________________________________________\n",
      "AttentionDecoder (AttentionD (None, 10, 10000)         106558096 \n",
      "=================================================================\n",
      "Total params: 107,969,680\n",
      "Trainable params: 107,969,680\n",
      "Non-trainable params: 0\n",
      "_________________________________________________________________\n",
      "None\n"
     ]
    }
   ],
   "source": [
    "from keras.layers import RNN\n",
    "from keras.layers import Bidirectional\n",
    "from custom_recurrents import AttentionDecoder\n",
    "\n",
    "\n",
    "# define model\n",
    "model2 = Sequential()\n",
    "model2.add(Embedding(n_features, 128, input_length=n_timesteps_in, mask_zero=True))\n",
    "model2.add(LSTM(128, return_sequences=True))\n",
    "model2.add(AttentionDecoder(128, n_features))\n",
    "# model2.add(TimeDistributed(Dense(n_features, activation='softmax')))\n",
    "model2.compile(loss='categorical_crossentropy', optimizer='adam', metrics=['acc'])\n",
    "\n",
    "print(model2.summary())"
   ]
  },
  {
   "cell_type": "code",
   "execution_count": 85,
   "metadata": {},
   "outputs": [
    {
     "name": "stdout",
     "output_type": "stream",
     "text": [
      "Epoch 1/10\n"
     ]
    },
    {
     "ename": "ResourceExhaustedError",
     "evalue": "OOM when allocating tensor of shape [128] and type float\n\t [[Node: training_13/Adam/gradients/AttentionDecoder_12/while/add_9/Enter_grad/b_acc = Const[_class=[\"loc:@AttentionDecoder_12/while/add_9/Enter\"], dtype=DT_FLOAT, value=Tensor<type: float shape: [128] values: 0 0 0...>, _device=\"/job:localhost/replica:0/task:0/gpu:0\"]()]]\n\nCaused by op 'training_13/Adam/gradients/AttentionDecoder_12/while/add_9/Enter_grad/b_acc', defined at:\n  File \"/usr/lib/python3.5/runpy.py\", line 184, in _run_module_as_main\n    \"__main__\", mod_spec)\n  File \"/usr/lib/python3.5/runpy.py\", line 85, in _run_code\n    exec(code, run_globals)\n  File \"/home/apoorv/.local/lib/python3.5/site-packages/ipykernel_launcher.py\", line 16, in <module>\n    app.launch_new_instance()\n  File \"/home/apoorv/.local/lib/python3.5/site-packages/traitlets/config/application.py\", line 658, in launch_instance\n    app.start()\n  File \"/home/apoorv/.local/lib/python3.5/site-packages/ipykernel/kernelapp.py\", line 505, in start\n    self.io_loop.start()\n  File \"/home/apoorv/.local/lib/python3.5/site-packages/tornado/platform/asyncio.py\", line 132, in start\n    self.asyncio_loop.run_forever()\n  File \"/usr/lib/python3.5/asyncio/base_events.py\", line 345, in run_forever\n    self._run_once()\n  File \"/usr/lib/python3.5/asyncio/base_events.py\", line 1312, in _run_once\n    handle._run()\n  File \"/usr/lib/python3.5/asyncio/events.py\", line 125, in _run\n    self._callback(*self._args)\n  File \"/home/apoorv/.local/lib/python3.5/site-packages/tornado/ioloop.py\", line 758, in _run_callback\n    ret = callback()\n  File \"/home/apoorv/.local/lib/python3.5/site-packages/tornado/stack_context.py\", line 300, in null_wrapper\n    return fn(*args, **kwargs)\n  File \"/home/apoorv/.local/lib/python3.5/site-packages/tornado/gen.py\", line 1233, in inner\n    self.run()\n  File \"/home/apoorv/.local/lib/python3.5/site-packages/tornado/gen.py\", line 1147, in run\n    yielded = self.gen.send(value)\n  File \"/home/apoorv/.local/lib/python3.5/site-packages/ipykernel/kernelbase.py\", line 370, in dispatch_queue\n    yield self.process_one()\n  File \"/home/apoorv/.local/lib/python3.5/site-packages/tornado/gen.py\", line 346, in wrapper\n    runner = Runner(result, future, yielded)\n  File \"/home/apoorv/.local/lib/python3.5/site-packages/tornado/gen.py\", line 1080, in __init__\n    self.run()\n  File \"/home/apoorv/.local/lib/python3.5/site-packages/tornado/gen.py\", line 1147, in run\n    yielded = self.gen.send(value)\n  File \"/home/apoorv/.local/lib/python3.5/site-packages/ipykernel/kernelbase.py\", line 357, in process_one\n    yield gen.maybe_future(dispatch(*args))\n  File \"/home/apoorv/.local/lib/python3.5/site-packages/tornado/gen.py\", line 326, in wrapper\n    yielded = next(result)\n  File \"/home/apoorv/.local/lib/python3.5/site-packages/ipykernel/kernelbase.py\", line 267, in dispatch_shell\n    yield gen.maybe_future(handler(stream, idents, msg))\n  File \"/home/apoorv/.local/lib/python3.5/site-packages/tornado/gen.py\", line 326, in wrapper\n    yielded = next(result)\n  File \"/home/apoorv/.local/lib/python3.5/site-packages/ipykernel/kernelbase.py\", line 534, in execute_request\n    user_expressions, allow_stdin,\n  File \"/home/apoorv/.local/lib/python3.5/site-packages/tornado/gen.py\", line 326, in wrapper\n    yielded = next(result)\n  File \"/home/apoorv/.local/lib/python3.5/site-packages/ipykernel/ipkernel.py\", line 294, in do_execute\n    res = shell.run_cell(code, store_history=store_history, silent=silent)\n  File \"/home/apoorv/.local/lib/python3.5/site-packages/ipykernel/zmqshell.py\", line 536, in run_cell\n    return super(ZMQInteractiveShell, self).run_cell(*args, **kwargs)\n  File \"/home/apoorv/.local/lib/python3.5/site-packages/IPython/core/interactiveshell.py\", line 2843, in run_cell\n    raw_cell, store_history, silent, shell_futures)\n  File \"/home/apoorv/.local/lib/python3.5/site-packages/IPython/core/interactiveshell.py\", line 2869, in _run_cell\n    return runner(coro)\n  File \"/home/apoorv/.local/lib/python3.5/site-packages/IPython/core/async_helpers.py\", line 67, in _pseudo_sync_runner\n    coro.send(None)\n  File \"/home/apoorv/.local/lib/python3.5/site-packages/IPython/core/interactiveshell.py\", line 3044, in run_cell_async\n    interactivity=interactivity, compiler=compiler, result=result)\n  File \"/home/apoorv/.local/lib/python3.5/site-packages/IPython/core/interactiveshell.py\", line 3215, in run_ast_nodes\n    if (yield from self.run_code(code, result)):\n  File \"/home/apoorv/.local/lib/python3.5/site-packages/IPython/core/interactiveshell.py\", line 3291, in run_code\n    exec(code_obj, self.user_global_ns, self.user_ns)\n  File \"<ipython-input-79-e16bd6e56071>\", line 3, in <module>\n    model2.fit(X_arr, y_arr, epochs=10, verbose=1, batch_size=32)\n  File \"/home/apoorv/.local/lib/python3.5/site-packages/keras/models.py\", line 960, in fit\n    validation_steps=validation_steps)\n  File \"/home/apoorv/.local/lib/python3.5/site-packages/keras/engine/training.py\", line 1634, in fit\n    self._make_train_function()\n  File \"/home/apoorv/.local/lib/python3.5/site-packages/keras/engine/training.py\", line 990, in _make_train_function\n    loss=self.total_loss)\n  File \"/home/apoorv/.local/lib/python3.5/site-packages/keras/legacy/interfaces.py\", line 87, in wrapper\n    return func(*args, **kwargs)\n  File \"/home/apoorv/.local/lib/python3.5/site-packages/keras/optimizers.py\", line 415, in get_updates\n    grads = self.get_gradients(loss, params)\n  File \"/home/apoorv/.local/lib/python3.5/site-packages/keras/optimizers.py\", line 73, in get_gradients\n    grads = K.gradients(loss, params)\n  File \"/home/apoorv/.local/lib/python3.5/site-packages/keras/backend/tensorflow_backend.py\", line 2394, in gradients\n    return tf.gradients(loss, variables, colocate_gradients_with_ops=True)\n  File \"/home/apoorv/.local/lib/python3.5/site-packages/tensorflow/python/ops/gradients_impl.py\", line 542, in gradients\n    grad_scope, op, func_call, lambda: grad_fn(op, *out_grads))\n  File \"/home/apoorv/.local/lib/python3.5/site-packages/tensorflow/python/ops/gradients_impl.py\", line 348, in _MaybeCompile\n    return grad_fn()  # Exit early\n  File \"/home/apoorv/.local/lib/python3.5/site-packages/tensorflow/python/ops/gradients_impl.py\", line 542, in <lambda>\n    grad_scope, op, func_call, lambda: grad_fn(op, *out_grads))\n  File \"/home/apoorv/.local/lib/python3.5/site-packages/tensorflow/python/ops/control_flow_grad.py\", line 217, in _EnterGrad\n    result = grad_ctxt.AddBackPropAccumulator(op, grad)\n  File \"/home/apoorv/.local/lib/python3.5/site-packages/tensorflow/python/ops/control_flow_ops.py\", line 2343, in AddBackPropAccumulator\n    acc = constant_op.constant(0, grad.dtype, shape=shape, name=\"b_acc\")\n  File \"/home/apoorv/.local/lib/python3.5/site-packages/tensorflow/python/framework/constant_op.py\", line 106, in constant\n    attrs={\"value\": tensor_value, \"dtype\": dtype_value}, name=name).outputs[0]\n  File \"/home/apoorv/.local/lib/python3.5/site-packages/tensorflow/python/framework/ops.py\", line 2630, in create_op\n    original_op=self._default_original_op, op_def=op_def)\n  File \"/home/apoorv/.local/lib/python3.5/site-packages/tensorflow/python/framework/ops.py\", line 1204, in __init__\n    self._traceback = self._graph._extract_stack()  # pylint: disable=protected-access\n\n...which was originally created as op 'AttentionDecoder_12/while/add_9/Enter', defined at:\n  File \"/usr/lib/python3.5/runpy.py\", line 184, in _run_module_as_main\n    \"__main__\", mod_spec)\n[elided 11 identical lines from previous traceback]\n  File \"/home/apoorv/.local/lib/python3.5/site-packages/tornado/gen.py\", line 1147, in run\n    yielded = self.gen.send(value)\n  File \"/home/apoorv/.local/lib/python3.5/site-packages/ipykernel/kernelbase.py\", line 357, in process_one\n    yield gen.maybe_future(dispatch(*args))\n  File \"/home/apoorv/.local/lib/python3.5/site-packages/tornado/gen.py\", line 326, in wrapper\n    yielded = next(result)\n  File \"/home/apoorv/.local/lib/python3.5/site-packages/ipykernel/kernelbase.py\", line 267, in dispatch_shell\n    yield gen.maybe_future(handler(stream, idents, msg))\n  File \"/home/apoorv/.local/lib/python3.5/site-packages/tornado/gen.py\", line 326, in wrapper\n    yielded = next(result)\n  File \"/home/apoorv/.local/lib/python3.5/site-packages/ipykernel/kernelbase.py\", line 534, in execute_request\n    user_expressions, allow_stdin,\n  File \"/home/apoorv/.local/lib/python3.5/site-packages/tornado/gen.py\", line 326, in wrapper\n    yielded = next(result)\n  File \"/home/apoorv/.local/lib/python3.5/site-packages/ipykernel/ipkernel.py\", line 294, in do_execute\n    res = shell.run_cell(code, store_history=store_history, silent=silent)\n  File \"/home/apoorv/.local/lib/python3.5/site-packages/ipykernel/zmqshell.py\", line 536, in run_cell\n    return super(ZMQInteractiveShell, self).run_cell(*args, **kwargs)\n  File \"/home/apoorv/.local/lib/python3.5/site-packages/IPython/core/interactiveshell.py\", line 2843, in run_cell\n    raw_cell, store_history, silent, shell_futures)\n  File \"/home/apoorv/.local/lib/python3.5/site-packages/IPython/core/interactiveshell.py\", line 2869, in _run_cell\n    return runner(coro)\n  File \"/home/apoorv/.local/lib/python3.5/site-packages/IPython/core/async_helpers.py\", line 67, in _pseudo_sync_runner\n    coro.send(None)\n  File \"/home/apoorv/.local/lib/python3.5/site-packages/IPython/core/interactiveshell.py\", line 3044, in run_cell_async\n    interactivity=interactivity, compiler=compiler, result=result)\n  File \"/home/apoorv/.local/lib/python3.5/site-packages/IPython/core/interactiveshell.py\", line 3209, in run_ast_nodes\n    if (yield from self.run_code(code, result)):\n  File \"/home/apoorv/.local/lib/python3.5/site-packages/IPython/core/interactiveshell.py\", line 3291, in run_code\n    exec(code_obj, self.user_global_ns, self.user_ns)\n  File \"<ipython-input-78-def4e22a0c4f>\", line 10, in <module>\n    model2.add(AttentionDecoder(128, n_features))\n  File \"/home/apoorv/.local/lib/python3.5/site-packages/keras/models.py\", line 489, in add\n    output_tensor = layer(self.outputs[0])\n  File \"/home/apoorv/.local/lib/python3.5/site-packages/keras/legacy/layers.py\", line 962, in __call__\n    return super(Recurrent, self).__call__(inputs, **kwargs)\n  File \"/home/apoorv/.local/lib/python3.5/site-packages/keras/engine/topology.py\", line 603, in __call__\n    output = self.call(inputs, **kwargs)\n  File \"/scratche/home/apoorv/nluass2/custom_recurrents.py\", line 211, in call\n    return super(AttentionDecoder, self).call(x)\n  File \"/home/apoorv/.local/lib/python3.5/site-packages/keras/legacy/layers.py\", line 1042, in call\n    input_length=timesteps)\n  File \"/home/apoorv/.local/lib/python3.5/site-packages/keras/backend/tensorflow_backend.py\", line 2646, in rnn\n    swap_memory=True)\n  File \"/home/apoorv/.local/lib/python3.5/site-packages/tensorflow/python/ops/control_flow_ops.py\", line 2775, in while_loop\n    result = context.BuildLoop(cond, body, loop_vars, shape_invariants)\n  File \"/home/apoorv/.local/lib/python3.5/site-packages/tensorflow/python/ops/control_flow_ops.py\", line 2604, in BuildLoop\n    pred, body, original_loop_vars, loop_vars, shape_invariants)\n  File \"/home/apoorv/.local/lib/python3.5/site-packages/tensorflow/python/ops/control_flow_ops.py\", line 2554, in _BuildLoop\n    body_result = body(*packed_vars_for_body)\n  File \"/home/apoorv/.local/lib/python3.5/site-packages/keras/backend/tensorflow_backend.py\", line 2632, in _step\n    tuple(constants))\n  File \"/scratche/home/apoorv/nluass2/custom_recurrents.py\", line 270, in step\n    + self.b_p)\n  File \"/home/apoorv/.local/lib/python3.5/site-packages/tensorflow/python/ops/math_ops.py\", line 865, in binary_op_wrapper\n    return func(x, y, name=name)\n  File \"/home/apoorv/.local/lib/python3.5/site-packages/tensorflow/python/ops/gen_math_ops.py\", line 80, in add\n    result = _op_def_lib.apply_op(\"Add\", x=x, y=y, name=name)\n  File \"/home/apoorv/.local/lib/python3.5/site-packages/tensorflow/python/framework/op_def_library.py\", line 767, in apply_op\n    op_def=op_def)\n  File \"/home/apoorv/.local/lib/python3.5/site-packages/tensorflow/python/framework/ops.py\", line 2630, in create_op\n    original_op=self._default_original_op, op_def=op_def)\n  File \"/home/apoorv/.local/lib/python3.5/site-packages/tensorflow/python/framework/ops.py\", line 1208, in __init__\n    self._control_flow_context.AddOp(self)\n  File \"/home/apoorv/.local/lib/python3.5/site-packages/tensorflow/python/ops/control_flow_ops.py\", line 2152, in AddOp\n    self._AddOpInternal(op)\n  File \"/home/apoorv/.local/lib/python3.5/site-packages/tensorflow/python/ops/control_flow_ops.py\", line 2175, in _AddOpInternal\n    real_x = self.AddValue(x)\n  File \"/home/apoorv/.local/lib/python3.5/site-packages/tensorflow/python/ops/control_flow_ops.py\", line 2117, in AddValue\n    parallel_iterations=self._parallel_iterations)\n\nResourceExhaustedError (see above for traceback): OOM when allocating tensor of shape [128] and type float\n\t [[Node: training_13/Adam/gradients/AttentionDecoder_12/while/add_9/Enter_grad/b_acc = Const[_class=[\"loc:@AttentionDecoder_12/while/add_9/Enter\"], dtype=DT_FLOAT, value=Tensor<type: float shape: [128] values: 0 0 0...>, _device=\"/job:localhost/replica:0/task:0/gpu:0\"]()]]\n",
     "output_type": "error",
     "traceback": [
      "\u001b[0;31m---------------------------------------------------------------------------\u001b[0m",
      "\u001b[0;31mResourceExhaustedError\u001b[0m                    Traceback (most recent call last)",
      "\u001b[0;32m~/.local/lib/python3.5/site-packages/tensorflow/python/client/session.py\u001b[0m in \u001b[0;36m_do_call\u001b[0;34m(self, fn, *args)\u001b[0m\n\u001b[1;32m   1326\u001b[0m     \u001b[0;32mtry\u001b[0m\u001b[0;34m:\u001b[0m\u001b[0;34m\u001b[0m\u001b[0m\n\u001b[0;32m-> 1327\u001b[0;31m       \u001b[0;32mreturn\u001b[0m \u001b[0mfn\u001b[0m\u001b[0;34m(\u001b[0m\u001b[0;34m*\u001b[0m\u001b[0margs\u001b[0m\u001b[0;34m)\u001b[0m\u001b[0;34m\u001b[0m\u001b[0m\n\u001b[0m\u001b[1;32m   1328\u001b[0m     \u001b[0;32mexcept\u001b[0m \u001b[0merrors\u001b[0m\u001b[0;34m.\u001b[0m\u001b[0mOpError\u001b[0m \u001b[0;32mas\u001b[0m \u001b[0me\u001b[0m\u001b[0;34m:\u001b[0m\u001b[0;34m\u001b[0m\u001b[0m\n",
      "\u001b[0;32m~/.local/lib/python3.5/site-packages/tensorflow/python/client/session.py\u001b[0m in \u001b[0;36m_run_fn\u001b[0;34m(session, feed_dict, fetch_list, target_list, options, run_metadata)\u001b[0m\n\u001b[1;32m   1305\u001b[0m                                    \u001b[0mfeed_dict\u001b[0m\u001b[0;34m,\u001b[0m \u001b[0mfetch_list\u001b[0m\u001b[0;34m,\u001b[0m \u001b[0mtarget_list\u001b[0m\u001b[0;34m,\u001b[0m\u001b[0;34m\u001b[0m\u001b[0m\n\u001b[0;32m-> 1306\u001b[0;31m                                    status, run_metadata)\n\u001b[0m\u001b[1;32m   1307\u001b[0m \u001b[0;34m\u001b[0m\u001b[0m\n",
      "\u001b[0;32m/usr/lib/python3.5/contextlib.py\u001b[0m in \u001b[0;36m__exit__\u001b[0;34m(self, type, value, traceback)\u001b[0m\n\u001b[1;32m     65\u001b[0m             \u001b[0;32mtry\u001b[0m\u001b[0;34m:\u001b[0m\u001b[0;34m\u001b[0m\u001b[0m\n\u001b[0;32m---> 66\u001b[0;31m                 \u001b[0mnext\u001b[0m\u001b[0;34m(\u001b[0m\u001b[0mself\u001b[0m\u001b[0;34m.\u001b[0m\u001b[0mgen\u001b[0m\u001b[0;34m)\u001b[0m\u001b[0;34m\u001b[0m\u001b[0m\n\u001b[0m\u001b[1;32m     67\u001b[0m             \u001b[0;32mexcept\u001b[0m \u001b[0mStopIteration\u001b[0m\u001b[0;34m:\u001b[0m\u001b[0;34m\u001b[0m\u001b[0m\n",
      "\u001b[0;32m~/.local/lib/python3.5/site-packages/tensorflow/python/framework/errors_impl.py\u001b[0m in \u001b[0;36mraise_exception_on_not_ok_status\u001b[0;34m()\u001b[0m\n\u001b[1;32m    465\u001b[0m           \u001b[0mcompat\u001b[0m\u001b[0;34m.\u001b[0m\u001b[0mas_text\u001b[0m\u001b[0;34m(\u001b[0m\u001b[0mpywrap_tensorflow\u001b[0m\u001b[0;34m.\u001b[0m\u001b[0mTF_Message\u001b[0m\u001b[0;34m(\u001b[0m\u001b[0mstatus\u001b[0m\u001b[0;34m)\u001b[0m\u001b[0;34m)\u001b[0m\u001b[0;34m,\u001b[0m\u001b[0;34m\u001b[0m\u001b[0m\n\u001b[0;32m--> 466\u001b[0;31m           pywrap_tensorflow.TF_GetCode(status))\n\u001b[0m\u001b[1;32m    467\u001b[0m   \u001b[0;32mfinally\u001b[0m\u001b[0;34m:\u001b[0m\u001b[0;34m\u001b[0m\u001b[0m\n",
      "\u001b[0;31mResourceExhaustedError\u001b[0m: OOM when allocating tensor of shape [128] and type float\n\t [[Node: training_13/Adam/gradients/AttentionDecoder_12/while/add_9/Enter_grad/b_acc = Const[_class=[\"loc:@AttentionDecoder_12/while/add_9/Enter\"], dtype=DT_FLOAT, value=Tensor<type: float shape: [128] values: 0 0 0...>, _device=\"/job:localhost/replica:0/task:0/gpu:0\"]()]]",
      "\nDuring handling of the above exception, another exception occurred:\n",
      "\u001b[0;31mResourceExhaustedError\u001b[0m                    Traceback (most recent call last)",
      "\u001b[0;32m<ipython-input-85-7ee1afdae436>\u001b[0m in \u001b[0;36m<module>\u001b[0;34m\u001b[0m\n\u001b[1;32m      1\u001b[0m \u001b[0;31m# X_arr, y_arr = get_pairs(n_timesteps_in, n_timesteps_out, n_features)\u001b[0m\u001b[0;34m\u001b[0m\u001b[0;34m\u001b[0m\u001b[0m\n\u001b[1;32m      2\u001b[0m \u001b[0mos\u001b[0m\u001b[0;34m.\u001b[0m\u001b[0menviron\u001b[0m\u001b[0;34m[\u001b[0m\u001b[0;34m\"CUDA_VISIBLE_DEVICES\"\u001b[0m\u001b[0;34m]\u001b[0m\u001b[0;34m=\u001b[0m\u001b[0;34m\"6\"\u001b[0m\u001b[0;34m\u001b[0m\u001b[0m\n\u001b[0;32m----> 3\u001b[0;31m \u001b[0mmodel2\u001b[0m\u001b[0;34m.\u001b[0m\u001b[0mfit\u001b[0m\u001b[0;34m(\u001b[0m\u001b[0mX_arr\u001b[0m\u001b[0;34m,\u001b[0m \u001b[0my_arr\u001b[0m\u001b[0;34m,\u001b[0m \u001b[0mepochs\u001b[0m\u001b[0;34m=\u001b[0m\u001b[0;36m10\u001b[0m\u001b[0;34m,\u001b[0m \u001b[0mverbose\u001b[0m\u001b[0;34m=\u001b[0m\u001b[0;36m1\u001b[0m\u001b[0;34m,\u001b[0m \u001b[0mbatch_size\u001b[0m\u001b[0;34m=\u001b[0m\u001b[0;36m1\u001b[0m\u001b[0;34m)\u001b[0m\u001b[0;34m\u001b[0m\u001b[0m\n\u001b[0m",
      "\u001b[0;32m~/.local/lib/python3.5/site-packages/keras/models.py\u001b[0m in \u001b[0;36mfit\u001b[0;34m(self, x, y, batch_size, epochs, verbose, callbacks, validation_split, validation_data, shuffle, class_weight, sample_weight, initial_epoch, steps_per_epoch, validation_steps, **kwargs)\u001b[0m\n\u001b[1;32m    958\u001b[0m                               \u001b[0minitial_epoch\u001b[0m\u001b[0;34m=\u001b[0m\u001b[0minitial_epoch\u001b[0m\u001b[0;34m,\u001b[0m\u001b[0;34m\u001b[0m\u001b[0m\n\u001b[1;32m    959\u001b[0m                               \u001b[0msteps_per_epoch\u001b[0m\u001b[0;34m=\u001b[0m\u001b[0msteps_per_epoch\u001b[0m\u001b[0;34m,\u001b[0m\u001b[0;34m\u001b[0m\u001b[0m\n\u001b[0;32m--> 960\u001b[0;31m                               validation_steps=validation_steps)\n\u001b[0m\u001b[1;32m    961\u001b[0m \u001b[0;34m\u001b[0m\u001b[0m\n\u001b[1;32m    962\u001b[0m     def evaluate(self, x, y, batch_size=32, verbose=1,\n",
      "\u001b[0;32m~/.local/lib/python3.5/site-packages/keras/engine/training.py\u001b[0m in \u001b[0;36mfit\u001b[0;34m(self, x, y, batch_size, epochs, verbose, callbacks, validation_split, validation_data, shuffle, class_weight, sample_weight, initial_epoch, steps_per_epoch, validation_steps, **kwargs)\u001b[0m\n\u001b[1;32m   1655\u001b[0m                               \u001b[0minitial_epoch\u001b[0m\u001b[0;34m=\u001b[0m\u001b[0minitial_epoch\u001b[0m\u001b[0;34m,\u001b[0m\u001b[0;34m\u001b[0m\u001b[0m\n\u001b[1;32m   1656\u001b[0m                               \u001b[0msteps_per_epoch\u001b[0m\u001b[0;34m=\u001b[0m\u001b[0msteps_per_epoch\u001b[0m\u001b[0;34m,\u001b[0m\u001b[0;34m\u001b[0m\u001b[0m\n\u001b[0;32m-> 1657\u001b[0;31m                               validation_steps=validation_steps)\n\u001b[0m\u001b[1;32m   1658\u001b[0m \u001b[0;34m\u001b[0m\u001b[0m\n\u001b[1;32m   1659\u001b[0m     def evaluate(self, x=None, y=None,\n",
      "\u001b[0;32m~/.local/lib/python3.5/site-packages/keras/engine/training.py\u001b[0m in \u001b[0;36m_fit_loop\u001b[0;34m(self, f, ins, out_labels, batch_size, epochs, verbose, callbacks, val_f, val_ins, shuffle, callback_metrics, initial_epoch, steps_per_epoch, validation_steps)\u001b[0m\n\u001b[1;32m   1211\u001b[0m                     \u001b[0mbatch_logs\u001b[0m\u001b[0;34m[\u001b[0m\u001b[0;34m'size'\u001b[0m\u001b[0;34m]\u001b[0m \u001b[0;34m=\u001b[0m \u001b[0mlen\u001b[0m\u001b[0;34m(\u001b[0m\u001b[0mbatch_ids\u001b[0m\u001b[0;34m)\u001b[0m\u001b[0;34m\u001b[0m\u001b[0m\n\u001b[1;32m   1212\u001b[0m                     \u001b[0mcallbacks\u001b[0m\u001b[0;34m.\u001b[0m\u001b[0mon_batch_begin\u001b[0m\u001b[0;34m(\u001b[0m\u001b[0mbatch_index\u001b[0m\u001b[0;34m,\u001b[0m \u001b[0mbatch_logs\u001b[0m\u001b[0;34m)\u001b[0m\u001b[0;34m\u001b[0m\u001b[0m\n\u001b[0;32m-> 1213\u001b[0;31m                     \u001b[0mouts\u001b[0m \u001b[0;34m=\u001b[0m \u001b[0mf\u001b[0m\u001b[0;34m(\u001b[0m\u001b[0mins_batch\u001b[0m\u001b[0;34m)\u001b[0m\u001b[0;34m\u001b[0m\u001b[0m\n\u001b[0m\u001b[1;32m   1214\u001b[0m                     \u001b[0;32mif\u001b[0m \u001b[0;32mnot\u001b[0m \u001b[0misinstance\u001b[0m\u001b[0;34m(\u001b[0m\u001b[0mouts\u001b[0m\u001b[0;34m,\u001b[0m \u001b[0mlist\u001b[0m\u001b[0;34m)\u001b[0m\u001b[0;34m:\u001b[0m\u001b[0;34m\u001b[0m\u001b[0m\n\u001b[1;32m   1215\u001b[0m                         \u001b[0mouts\u001b[0m \u001b[0;34m=\u001b[0m \u001b[0;34m[\u001b[0m\u001b[0mouts\u001b[0m\u001b[0;34m]\u001b[0m\u001b[0;34m\u001b[0m\u001b[0m\n",
      "\u001b[0;32m~/.local/lib/python3.5/site-packages/keras/backend/tensorflow_backend.py\u001b[0m in \u001b[0;36m__call__\u001b[0;34m(self, inputs)\u001b[0m\n\u001b[1;32m   2355\u001b[0m         \u001b[0msession\u001b[0m \u001b[0;34m=\u001b[0m \u001b[0mget_session\u001b[0m\u001b[0;34m(\u001b[0m\u001b[0;34m)\u001b[0m\u001b[0;34m\u001b[0m\u001b[0m\n\u001b[1;32m   2356\u001b[0m         updated = session.run(fetches=fetches, feed_dict=feed_dict,\n\u001b[0;32m-> 2357\u001b[0;31m                               **self.session_kwargs)\n\u001b[0m\u001b[1;32m   2358\u001b[0m         \u001b[0;32mreturn\u001b[0m \u001b[0mupdated\u001b[0m\u001b[0;34m[\u001b[0m\u001b[0;34m:\u001b[0m\u001b[0mlen\u001b[0m\u001b[0;34m(\u001b[0m\u001b[0mself\u001b[0m\u001b[0;34m.\u001b[0m\u001b[0moutputs\u001b[0m\u001b[0;34m)\u001b[0m\u001b[0;34m]\u001b[0m\u001b[0;34m\u001b[0m\u001b[0m\n\u001b[1;32m   2359\u001b[0m \u001b[0;34m\u001b[0m\u001b[0m\n",
      "\u001b[0;32m~/.local/lib/python3.5/site-packages/tensorflow/python/client/session.py\u001b[0m in \u001b[0;36mrun\u001b[0;34m(self, fetches, feed_dict, options, run_metadata)\u001b[0m\n\u001b[1;32m    893\u001b[0m     \u001b[0;32mtry\u001b[0m\u001b[0;34m:\u001b[0m\u001b[0;34m\u001b[0m\u001b[0m\n\u001b[1;32m    894\u001b[0m       result = self._run(None, fetches, feed_dict, options_ptr,\n\u001b[0;32m--> 895\u001b[0;31m                          run_metadata_ptr)\n\u001b[0m\u001b[1;32m    896\u001b[0m       \u001b[0;32mif\u001b[0m \u001b[0mrun_metadata\u001b[0m\u001b[0;34m:\u001b[0m\u001b[0;34m\u001b[0m\u001b[0m\n\u001b[1;32m    897\u001b[0m         \u001b[0mproto_data\u001b[0m \u001b[0;34m=\u001b[0m \u001b[0mtf_session\u001b[0m\u001b[0;34m.\u001b[0m\u001b[0mTF_GetBuffer\u001b[0m\u001b[0;34m(\u001b[0m\u001b[0mrun_metadata_ptr\u001b[0m\u001b[0;34m)\u001b[0m\u001b[0;34m\u001b[0m\u001b[0m\n",
      "\u001b[0;32m~/.local/lib/python3.5/site-packages/tensorflow/python/client/session.py\u001b[0m in \u001b[0;36m_run\u001b[0;34m(self, handle, fetches, feed_dict, options, run_metadata)\u001b[0m\n\u001b[1;32m   1122\u001b[0m     \u001b[0;32mif\u001b[0m \u001b[0mfinal_fetches\u001b[0m \u001b[0;32mor\u001b[0m \u001b[0mfinal_targets\u001b[0m \u001b[0;32mor\u001b[0m \u001b[0;34m(\u001b[0m\u001b[0mhandle\u001b[0m \u001b[0;32mand\u001b[0m \u001b[0mfeed_dict_tensor\u001b[0m\u001b[0;34m)\u001b[0m\u001b[0;34m:\u001b[0m\u001b[0;34m\u001b[0m\u001b[0m\n\u001b[1;32m   1123\u001b[0m       results = self._do_run(handle, final_targets, final_fetches,\n\u001b[0;32m-> 1124\u001b[0;31m                              feed_dict_tensor, options, run_metadata)\n\u001b[0m\u001b[1;32m   1125\u001b[0m     \u001b[0;32melse\u001b[0m\u001b[0;34m:\u001b[0m\u001b[0;34m\u001b[0m\u001b[0m\n\u001b[1;32m   1126\u001b[0m       \u001b[0mresults\u001b[0m \u001b[0;34m=\u001b[0m \u001b[0;34m[\u001b[0m\u001b[0;34m]\u001b[0m\u001b[0;34m\u001b[0m\u001b[0m\n",
      "\u001b[0;32m~/.local/lib/python3.5/site-packages/tensorflow/python/client/session.py\u001b[0m in \u001b[0;36m_do_run\u001b[0;34m(self, handle, target_list, fetch_list, feed_dict, options, run_metadata)\u001b[0m\n\u001b[1;32m   1319\u001b[0m     \u001b[0;32mif\u001b[0m \u001b[0mhandle\u001b[0m \u001b[0;32mis\u001b[0m \u001b[0;32mNone\u001b[0m\u001b[0;34m:\u001b[0m\u001b[0;34m\u001b[0m\u001b[0m\n\u001b[1;32m   1320\u001b[0m       return self._do_call(_run_fn, self._session, feeds, fetches, targets,\n\u001b[0;32m-> 1321\u001b[0;31m                            options, run_metadata)\n\u001b[0m\u001b[1;32m   1322\u001b[0m     \u001b[0;32melse\u001b[0m\u001b[0;34m:\u001b[0m\u001b[0;34m\u001b[0m\u001b[0m\n\u001b[1;32m   1323\u001b[0m       \u001b[0;32mreturn\u001b[0m \u001b[0mself\u001b[0m\u001b[0;34m.\u001b[0m\u001b[0m_do_call\u001b[0m\u001b[0;34m(\u001b[0m\u001b[0m_prun_fn\u001b[0m\u001b[0;34m,\u001b[0m \u001b[0mself\u001b[0m\u001b[0;34m.\u001b[0m\u001b[0m_session\u001b[0m\u001b[0;34m,\u001b[0m \u001b[0mhandle\u001b[0m\u001b[0;34m,\u001b[0m \u001b[0mfeeds\u001b[0m\u001b[0;34m,\u001b[0m \u001b[0mfetches\u001b[0m\u001b[0;34m)\u001b[0m\u001b[0;34m\u001b[0m\u001b[0m\n",
      "\u001b[0;32m~/.local/lib/python3.5/site-packages/tensorflow/python/client/session.py\u001b[0m in \u001b[0;36m_do_call\u001b[0;34m(self, fn, *args)\u001b[0m\n\u001b[1;32m   1338\u001b[0m         \u001b[0;32mexcept\u001b[0m \u001b[0mKeyError\u001b[0m\u001b[0;34m:\u001b[0m\u001b[0;34m\u001b[0m\u001b[0m\n\u001b[1;32m   1339\u001b[0m           \u001b[0;32mpass\u001b[0m\u001b[0;34m\u001b[0m\u001b[0m\n\u001b[0;32m-> 1340\u001b[0;31m       \u001b[0;32mraise\u001b[0m \u001b[0mtype\u001b[0m\u001b[0;34m(\u001b[0m\u001b[0me\u001b[0m\u001b[0;34m)\u001b[0m\u001b[0;34m(\u001b[0m\u001b[0mnode_def\u001b[0m\u001b[0;34m,\u001b[0m \u001b[0mop\u001b[0m\u001b[0;34m,\u001b[0m \u001b[0mmessage\u001b[0m\u001b[0;34m)\u001b[0m\u001b[0;34m\u001b[0m\u001b[0m\n\u001b[0m\u001b[1;32m   1341\u001b[0m \u001b[0;34m\u001b[0m\u001b[0m\n\u001b[1;32m   1342\u001b[0m   \u001b[0;32mdef\u001b[0m \u001b[0m_extend_graph\u001b[0m\u001b[0;34m(\u001b[0m\u001b[0mself\u001b[0m\u001b[0;34m)\u001b[0m\u001b[0;34m:\u001b[0m\u001b[0;34m\u001b[0m\u001b[0m\n",
      "\u001b[0;31mResourceExhaustedError\u001b[0m: OOM when allocating tensor of shape [128] and type float\n\t [[Node: training_13/Adam/gradients/AttentionDecoder_12/while/add_9/Enter_grad/b_acc = Const[_class=[\"loc:@AttentionDecoder_12/while/add_9/Enter\"], dtype=DT_FLOAT, value=Tensor<type: float shape: [128] values: 0 0 0...>, _device=\"/job:localhost/replica:0/task:0/gpu:0\"]()]]\n\nCaused by op 'training_13/Adam/gradients/AttentionDecoder_12/while/add_9/Enter_grad/b_acc', defined at:\n  File \"/usr/lib/python3.5/runpy.py\", line 184, in _run_module_as_main\n    \"__main__\", mod_spec)\n  File \"/usr/lib/python3.5/runpy.py\", line 85, in _run_code\n    exec(code, run_globals)\n  File \"/home/apoorv/.local/lib/python3.5/site-packages/ipykernel_launcher.py\", line 16, in <module>\n    app.launch_new_instance()\n  File \"/home/apoorv/.local/lib/python3.5/site-packages/traitlets/config/application.py\", line 658, in launch_instance\n    app.start()\n  File \"/home/apoorv/.local/lib/python3.5/site-packages/ipykernel/kernelapp.py\", line 505, in start\n    self.io_loop.start()\n  File \"/home/apoorv/.local/lib/python3.5/site-packages/tornado/platform/asyncio.py\", line 132, in start\n    self.asyncio_loop.run_forever()\n  File \"/usr/lib/python3.5/asyncio/base_events.py\", line 345, in run_forever\n    self._run_once()\n  File \"/usr/lib/python3.5/asyncio/base_events.py\", line 1312, in _run_once\n    handle._run()\n  File \"/usr/lib/python3.5/asyncio/events.py\", line 125, in _run\n    self._callback(*self._args)\n  File \"/home/apoorv/.local/lib/python3.5/site-packages/tornado/ioloop.py\", line 758, in _run_callback\n    ret = callback()\n  File \"/home/apoorv/.local/lib/python3.5/site-packages/tornado/stack_context.py\", line 300, in null_wrapper\n    return fn(*args, **kwargs)\n  File \"/home/apoorv/.local/lib/python3.5/site-packages/tornado/gen.py\", line 1233, in inner\n    self.run()\n  File \"/home/apoorv/.local/lib/python3.5/site-packages/tornado/gen.py\", line 1147, in run\n    yielded = self.gen.send(value)\n  File \"/home/apoorv/.local/lib/python3.5/site-packages/ipykernel/kernelbase.py\", line 370, in dispatch_queue\n    yield self.process_one()\n  File \"/home/apoorv/.local/lib/python3.5/site-packages/tornado/gen.py\", line 346, in wrapper\n    runner = Runner(result, future, yielded)\n  File \"/home/apoorv/.local/lib/python3.5/site-packages/tornado/gen.py\", line 1080, in __init__\n    self.run()\n  File \"/home/apoorv/.local/lib/python3.5/site-packages/tornado/gen.py\", line 1147, in run\n    yielded = self.gen.send(value)\n  File \"/home/apoorv/.local/lib/python3.5/site-packages/ipykernel/kernelbase.py\", line 357, in process_one\n    yield gen.maybe_future(dispatch(*args))\n  File \"/home/apoorv/.local/lib/python3.5/site-packages/tornado/gen.py\", line 326, in wrapper\n    yielded = next(result)\n  File \"/home/apoorv/.local/lib/python3.5/site-packages/ipykernel/kernelbase.py\", line 267, in dispatch_shell\n    yield gen.maybe_future(handler(stream, idents, msg))\n  File \"/home/apoorv/.local/lib/python3.5/site-packages/tornado/gen.py\", line 326, in wrapper\n    yielded = next(result)\n  File \"/home/apoorv/.local/lib/python3.5/site-packages/ipykernel/kernelbase.py\", line 534, in execute_request\n    user_expressions, allow_stdin,\n  File \"/home/apoorv/.local/lib/python3.5/site-packages/tornado/gen.py\", line 326, in wrapper\n    yielded = next(result)\n  File \"/home/apoorv/.local/lib/python3.5/site-packages/ipykernel/ipkernel.py\", line 294, in do_execute\n    res = shell.run_cell(code, store_history=store_history, silent=silent)\n  File \"/home/apoorv/.local/lib/python3.5/site-packages/ipykernel/zmqshell.py\", line 536, in run_cell\n    return super(ZMQInteractiveShell, self).run_cell(*args, **kwargs)\n  File \"/home/apoorv/.local/lib/python3.5/site-packages/IPython/core/interactiveshell.py\", line 2843, in run_cell\n    raw_cell, store_history, silent, shell_futures)\n  File \"/home/apoorv/.local/lib/python3.5/site-packages/IPython/core/interactiveshell.py\", line 2869, in _run_cell\n    return runner(coro)\n  File \"/home/apoorv/.local/lib/python3.5/site-packages/IPython/core/async_helpers.py\", line 67, in _pseudo_sync_runner\n    coro.send(None)\n  File \"/home/apoorv/.local/lib/python3.5/site-packages/IPython/core/interactiveshell.py\", line 3044, in run_cell_async\n    interactivity=interactivity, compiler=compiler, result=result)\n  File \"/home/apoorv/.local/lib/python3.5/site-packages/IPython/core/interactiveshell.py\", line 3215, in run_ast_nodes\n    if (yield from self.run_code(code, result)):\n  File \"/home/apoorv/.local/lib/python3.5/site-packages/IPython/core/interactiveshell.py\", line 3291, in run_code\n    exec(code_obj, self.user_global_ns, self.user_ns)\n  File \"<ipython-input-79-e16bd6e56071>\", line 3, in <module>\n    model2.fit(X_arr, y_arr, epochs=10, verbose=1, batch_size=32)\n  File \"/home/apoorv/.local/lib/python3.5/site-packages/keras/models.py\", line 960, in fit\n    validation_steps=validation_steps)\n  File \"/home/apoorv/.local/lib/python3.5/site-packages/keras/engine/training.py\", line 1634, in fit\n    self._make_train_function()\n  File \"/home/apoorv/.local/lib/python3.5/site-packages/keras/engine/training.py\", line 990, in _make_train_function\n    loss=self.total_loss)\n  File \"/home/apoorv/.local/lib/python3.5/site-packages/keras/legacy/interfaces.py\", line 87, in wrapper\n    return func(*args, **kwargs)\n  File \"/home/apoorv/.local/lib/python3.5/site-packages/keras/optimizers.py\", line 415, in get_updates\n    grads = self.get_gradients(loss, params)\n  File \"/home/apoorv/.local/lib/python3.5/site-packages/keras/optimizers.py\", line 73, in get_gradients\n    grads = K.gradients(loss, params)\n  File \"/home/apoorv/.local/lib/python3.5/site-packages/keras/backend/tensorflow_backend.py\", line 2394, in gradients\n    return tf.gradients(loss, variables, colocate_gradients_with_ops=True)\n  File \"/home/apoorv/.local/lib/python3.5/site-packages/tensorflow/python/ops/gradients_impl.py\", line 542, in gradients\n    grad_scope, op, func_call, lambda: grad_fn(op, *out_grads))\n  File \"/home/apoorv/.local/lib/python3.5/site-packages/tensorflow/python/ops/gradients_impl.py\", line 348, in _MaybeCompile\n    return grad_fn()  # Exit early\n  File \"/home/apoorv/.local/lib/python3.5/site-packages/tensorflow/python/ops/gradients_impl.py\", line 542, in <lambda>\n    grad_scope, op, func_call, lambda: grad_fn(op, *out_grads))\n  File \"/home/apoorv/.local/lib/python3.5/site-packages/tensorflow/python/ops/control_flow_grad.py\", line 217, in _EnterGrad\n    result = grad_ctxt.AddBackPropAccumulator(op, grad)\n  File \"/home/apoorv/.local/lib/python3.5/site-packages/tensorflow/python/ops/control_flow_ops.py\", line 2343, in AddBackPropAccumulator\n    acc = constant_op.constant(0, grad.dtype, shape=shape, name=\"b_acc\")\n  File \"/home/apoorv/.local/lib/python3.5/site-packages/tensorflow/python/framework/constant_op.py\", line 106, in constant\n    attrs={\"value\": tensor_value, \"dtype\": dtype_value}, name=name).outputs[0]\n  File \"/home/apoorv/.local/lib/python3.5/site-packages/tensorflow/python/framework/ops.py\", line 2630, in create_op\n    original_op=self._default_original_op, op_def=op_def)\n  File \"/home/apoorv/.local/lib/python3.5/site-packages/tensorflow/python/framework/ops.py\", line 1204, in __init__\n    self._traceback = self._graph._extract_stack()  # pylint: disable=protected-access\n\n...which was originally created as op 'AttentionDecoder_12/while/add_9/Enter', defined at:\n  File \"/usr/lib/python3.5/runpy.py\", line 184, in _run_module_as_main\n    \"__main__\", mod_spec)\n[elided 11 identical lines from previous traceback]\n  File \"/home/apoorv/.local/lib/python3.5/site-packages/tornado/gen.py\", line 1147, in run\n    yielded = self.gen.send(value)\n  File \"/home/apoorv/.local/lib/python3.5/site-packages/ipykernel/kernelbase.py\", line 357, in process_one\n    yield gen.maybe_future(dispatch(*args))\n  File \"/home/apoorv/.local/lib/python3.5/site-packages/tornado/gen.py\", line 326, in wrapper\n    yielded = next(result)\n  File \"/home/apoorv/.local/lib/python3.5/site-packages/ipykernel/kernelbase.py\", line 267, in dispatch_shell\n    yield gen.maybe_future(handler(stream, idents, msg))\n  File \"/home/apoorv/.local/lib/python3.5/site-packages/tornado/gen.py\", line 326, in wrapper\n    yielded = next(result)\n  File \"/home/apoorv/.local/lib/python3.5/site-packages/ipykernel/kernelbase.py\", line 534, in execute_request\n    user_expressions, allow_stdin,\n  File \"/home/apoorv/.local/lib/python3.5/site-packages/tornado/gen.py\", line 326, in wrapper\n    yielded = next(result)\n  File \"/home/apoorv/.local/lib/python3.5/site-packages/ipykernel/ipkernel.py\", line 294, in do_execute\n    res = shell.run_cell(code, store_history=store_history, silent=silent)\n  File \"/home/apoorv/.local/lib/python3.5/site-packages/ipykernel/zmqshell.py\", line 536, in run_cell\n    return super(ZMQInteractiveShell, self).run_cell(*args, **kwargs)\n  File \"/home/apoorv/.local/lib/python3.5/site-packages/IPython/core/interactiveshell.py\", line 2843, in run_cell\n    raw_cell, store_history, silent, shell_futures)\n  File \"/home/apoorv/.local/lib/python3.5/site-packages/IPython/core/interactiveshell.py\", line 2869, in _run_cell\n    return runner(coro)\n  File \"/home/apoorv/.local/lib/python3.5/site-packages/IPython/core/async_helpers.py\", line 67, in _pseudo_sync_runner\n    coro.send(None)\n  File \"/home/apoorv/.local/lib/python3.5/site-packages/IPython/core/interactiveshell.py\", line 3044, in run_cell_async\n    interactivity=interactivity, compiler=compiler, result=result)\n  File \"/home/apoorv/.local/lib/python3.5/site-packages/IPython/core/interactiveshell.py\", line 3209, in run_ast_nodes\n    if (yield from self.run_code(code, result)):\n  File \"/home/apoorv/.local/lib/python3.5/site-packages/IPython/core/interactiveshell.py\", line 3291, in run_code\n    exec(code_obj, self.user_global_ns, self.user_ns)\n  File \"<ipython-input-78-def4e22a0c4f>\", line 10, in <module>\n    model2.add(AttentionDecoder(128, n_features))\n  File \"/home/apoorv/.local/lib/python3.5/site-packages/keras/models.py\", line 489, in add\n    output_tensor = layer(self.outputs[0])\n  File \"/home/apoorv/.local/lib/python3.5/site-packages/keras/legacy/layers.py\", line 962, in __call__\n    return super(Recurrent, self).__call__(inputs, **kwargs)\n  File \"/home/apoorv/.local/lib/python3.5/site-packages/keras/engine/topology.py\", line 603, in __call__\n    output = self.call(inputs, **kwargs)\n  File \"/scratche/home/apoorv/nluass2/custom_recurrents.py\", line 211, in call\n    return super(AttentionDecoder, self).call(x)\n  File \"/home/apoorv/.local/lib/python3.5/site-packages/keras/legacy/layers.py\", line 1042, in call\n    input_length=timesteps)\n  File \"/home/apoorv/.local/lib/python3.5/site-packages/keras/backend/tensorflow_backend.py\", line 2646, in rnn\n    swap_memory=True)\n  File \"/home/apoorv/.local/lib/python3.5/site-packages/tensorflow/python/ops/control_flow_ops.py\", line 2775, in while_loop\n    result = context.BuildLoop(cond, body, loop_vars, shape_invariants)\n  File \"/home/apoorv/.local/lib/python3.5/site-packages/tensorflow/python/ops/control_flow_ops.py\", line 2604, in BuildLoop\n    pred, body, original_loop_vars, loop_vars, shape_invariants)\n  File \"/home/apoorv/.local/lib/python3.5/site-packages/tensorflow/python/ops/control_flow_ops.py\", line 2554, in _BuildLoop\n    body_result = body(*packed_vars_for_body)\n  File \"/home/apoorv/.local/lib/python3.5/site-packages/keras/backend/tensorflow_backend.py\", line 2632, in _step\n    tuple(constants))\n  File \"/scratche/home/apoorv/nluass2/custom_recurrents.py\", line 270, in step\n    + self.b_p)\n  File \"/home/apoorv/.local/lib/python3.5/site-packages/tensorflow/python/ops/math_ops.py\", line 865, in binary_op_wrapper\n    return func(x, y, name=name)\n  File \"/home/apoorv/.local/lib/python3.5/site-packages/tensorflow/python/ops/gen_math_ops.py\", line 80, in add\n    result = _op_def_lib.apply_op(\"Add\", x=x, y=y, name=name)\n  File \"/home/apoorv/.local/lib/python3.5/site-packages/tensorflow/python/framework/op_def_library.py\", line 767, in apply_op\n    op_def=op_def)\n  File \"/home/apoorv/.local/lib/python3.5/site-packages/tensorflow/python/framework/ops.py\", line 2630, in create_op\n    original_op=self._default_original_op, op_def=op_def)\n  File \"/home/apoorv/.local/lib/python3.5/site-packages/tensorflow/python/framework/ops.py\", line 1208, in __init__\n    self._control_flow_context.AddOp(self)\n  File \"/home/apoorv/.local/lib/python3.5/site-packages/tensorflow/python/ops/control_flow_ops.py\", line 2152, in AddOp\n    self._AddOpInternal(op)\n  File \"/home/apoorv/.local/lib/python3.5/site-packages/tensorflow/python/ops/control_flow_ops.py\", line 2175, in _AddOpInternal\n    real_x = self.AddValue(x)\n  File \"/home/apoorv/.local/lib/python3.5/site-packages/tensorflow/python/ops/control_flow_ops.py\", line 2117, in AddValue\n    parallel_iterations=self._parallel_iterations)\n\nResourceExhaustedError (see above for traceback): OOM when allocating tensor of shape [128] and type float\n\t [[Node: training_13/Adam/gradients/AttentionDecoder_12/while/add_9/Enter_grad/b_acc = Const[_class=[\"loc:@AttentionDecoder_12/while/add_9/Enter\"], dtype=DT_FLOAT, value=Tensor<type: float shape: [128] values: 0 0 0...>, _device=\"/job:localhost/replica:0/task:0/gpu:0\"]()]]\n"
     ]
    }
   ],
   "source": [
    "# X_arr, y_arr = get_pairs(n_timesteps_in, n_timesteps_out, n_features)\n",
    "model2.fit(X_arr, y_arr, epochs=10, verbose=1, batch_size=32)"
   ]
  },
  {
   "cell_type": "code",
   "execution_count": 73,
   "metadata": {},
   "outputs": [
    {
     "name": "stdout",
     "output_type": "stream",
     "text": [
      "Accuracy: 0.00%\n",
      "Expected: [6358, 1305, 0, 0, 0, 0, 0, 0, 0, 0] Predicted [8494, 9531, 0, 0, 0, 0, 0, 0, 0, 0]\n",
      "Expected: [1722, 8763, 0, 0, 0, 0, 0, 0, 0, 0] Predicted [2575, 0, 0, 0, 0, 0, 0, 0, 0, 0]\n",
      "Expected: [8488, 2750, 0, 0, 0, 0, 0, 0, 0, 0] Predicted [0, 2739, 0, 0, 0, 0, 0, 0, 0, 0]\n",
      "Expected: [7413, 502, 0, 0, 0, 0, 0, 0, 0, 0] Predicted [84, 8328, 0, 0, 0, 0, 0, 0, 0, 0]\n",
      "Expected: [9750, 4519, 0, 0, 0, 0, 0, 0, 0, 0] Predicted [0, 3128, 0, 0, 0, 0, 0, 0, 0, 0]\n",
      "Expected: [548, 7212, 0, 0, 0, 0, 0, 0, 0, 0] Predicted [159, 0, 0, 0, 0, 0, 0, 0, 0, 0]\n",
      "Expected: [2591, 5598, 0, 0, 0, 0, 0, 0, 0, 0] Predicted [0, 0, 0, 0, 0, 0, 0, 0, 0, 0]\n",
      "Expected: [3835, 6759, 0, 0, 0, 0, 0, 0, 0, 0] Predicted [8578, 6008, 0, 0, 0, 0, 0, 0, 0, 0]\n",
      "Expected: [2856, 7452, 0, 0, 0, 0, 0, 0, 0, 0] Predicted [327, 1646, 0, 0, 0, 0, 0, 0, 0, 0]\n",
      "Expected: [4439, 1060, 0, 0, 0, 0, 0, 0, 0, 0] Predicted [619, 4532, 0, 0, 0, 0, 0, 0, 0, 0]\n"
     ]
    }
   ],
   "source": [
    "run_test(model2)"
   ]
  },
  {
   "cell_type": "code",
   "execution_count": null,
   "metadata": {},
   "outputs": [],
   "source": []
  }
 ],
 "metadata": {
  "kernelspec": {
   "display_name": "Python 3",
   "language": "python",
   "name": "python3"
  },
  "language_info": {
   "codemirror_mode": {
    "name": "ipython",
    "version": 3
   },
   "file_extension": ".py",
   "mimetype": "text/x-python",
   "name": "python",
   "nbconvert_exporter": "python",
   "pygments_lexer": "ipython3",
   "version": "3.5.2"
  }
 },
 "nbformat": 4,
 "nbformat_minor": 2
}
